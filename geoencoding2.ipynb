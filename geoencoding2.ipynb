{
 "cells": [
  {
   "cell_type": "code",
   "execution_count": 1,
   "id": "f1b59d86",
   "metadata": {},
   "outputs": [
    {
     "name": "stderr",
     "output_type": "stream",
     "text": [
      "100%|██████████| 12247/12247 [21:32<00:00,  9.47it/s]\n"
     ]
    }
   ],
   "source": [
    "import pandas as pd\n",
    "import requests\n",
    "from tqdm import tqdm\n",
    "from concurrent.futures import ThreadPoolExecutor, as_completed\n",
    "import time\n",
    "\n",
    "\n",
    "input_file_path = 'data_immo_202405151452.csv'\n",
    "df = pd.read_csv(input_file_path)\n",
    "\n",
    "\n",
    "API_URL = \"https://api3.geo.admin.ch/rest/services/api/SearchServer\"\n",
    "\n",
    "\n",
    "def geocode_address(row):\n",
    "    try:\n",
    "        address = f\"{row['Street']}, {row['Zip']}, {row['City']}\"\n",
    "        params = {\n",
    "            'searchText': address,\n",
    "            'type': 'locations',\n",
    "            'sr': '2056',  \n",
    "            'limit': 1\n",
    "        }\n",
    "        response = requests.get(API_URL, params=params)\n",
    "        if response.status_code == 200:\n",
    "            data = response.json()\n",
    "            if data['results']:\n",
    "                location = data['results'][0]['attrs']\n",
    "                return (row.name, location['lat'], location['lon']) \n",
    "        return (row.name, None, None)\n",
    "    except Exception as e:\n",
    "        return (row.name, None, None)\n",
    "\n",
    "\n",
    "def parallel_geocode(df, max_workers=10):\n",
    "    results = []\n",
    "    with ThreadPoolExecutor(max_workers=max_workers) as executor:\n",
    "        futures = {executor.submit(geocode_address, row): row for _, row in df.iterrows()}\n",
    "        for i, future in enumerate(tqdm(as_completed(futures), total=len(futures))):\n",
    "            result = future.result()\n",
    "            results.append(result)\n",
    "            if (i + 1) % 10 == 0:  # Update CSV every 10 results\n",
    "                for idx, lat, lon in results[-10:]:\n",
    "                    df.at[idx, 'Latitude'] = lat\n",
    "                    df.at[idx, 'Longitude'] = lon\n",
    "                df.to_csv(output_file_path, index=False)\n",
    "                time.sleep(1)  # Wartezeit nach jedem Schreiben in die Datei\n",
    "    return results\n",
    "\n",
    "\n",
    "output_file_path = 'data_immo_geocoded.csv'\n",
    "results = parallel_geocode(df)\n",
    "\n",
    "\n",
    "for idx, lat, lon in results:\n",
    "    df.at[idx, 'Latitude'] = lat\n",
    "    df.at[idx, 'Longitude'] = lon\n",
    "\n",
    "df.to_csv(output_file_path, index=False)\n"
   ]
  },
  {
   "cell_type": "code",
   "execution_count": null,
   "id": "ed897892",
   "metadata": {},
   "outputs": [],
   "source": []
  }
 ],
 "metadata": {
  "kernelspec": {
   "display_name": "Python 3 (ipykernel)",
   "language": "python",
   "name": "python3"
  },
  "language_info": {
   "codemirror_mode": {
    "name": "ipython",
    "version": 3
   },
   "file_extension": ".py",
   "mimetype": "text/x-python",
   "name": "python",
   "nbconvert_exporter": "python",
   "pygments_lexer": "ipython3",
   "version": "3.11.9"
  }
 },
 "nbformat": 4,
 "nbformat_minor": 5
}
