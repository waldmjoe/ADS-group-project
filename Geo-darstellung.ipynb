{
 "cells": [
  {
   "cell_type": "code",
   "execution_count": 20,
   "id": "5648a12f",
   "metadata": {},
   "outputs": [
    {
     "name": "stdout",
     "output_type": "stream",
     "text": [
      "Karte gespeichert unter: switzerland_map_with_marker_cluster_and_heatmap.html\n"
     ]
    }
   ],
   "source": [
    "import pandas as pd\n",
    "import folium\n",
    "from folium.plugins import MarkerCluster, HeatMap\n",
    "\n",
    "# Datei einlesen\n",
    "file_path = 'data_immo_geocoded.csv'\n",
    "data = pd.read_csv(file_path)\n",
    "\n",
    "\n",
    "data = data.dropna(subset=['Latitude', 'Longitude'])\n",
    "\n",
    "\n",
    "m = folium.Map(location=[46.8182, 8.2275], zoom_start=8)\n",
    "\n",
    "\n",
    "marker_cluster = MarkerCluster().add_to(m)\n",
    "\n",
    "\n",
    "data['Price_per_sqm'] = (data['Price'] / data['Area']).astype(int)\n",
    "heat_data = data[['Latitude', 'Longitude', 'Price_per_sqm']].values.tolist()\n",
    "\n",
    "\n",
    "for idx, row in data.iterrows():\n",
    "    price_per_sqm = int(row['Price'] / row['Area'])\n",
    "    popup_text = (\n",
    "        f\"<b>Preis:</b> {row['Price']} CHF<br>\"\n",
    "        f\"<b>Fläche:</b> {row['Area']} m²<br>\"\n",
    "        f\"<b>Zimmer:</b> {row['Rooms']} <br>\"\n",
    "        f\"<b>Preis pro Quadratmeter:</b> {price_per_sqm} CHF/m²\"\n",
    "    )\n",
    "    folium.Marker(\n",
    "        location=[row['Latitude'], row['Longitude']],\n",
    "        popup=folium.Popup(popup_text, max_width=300)\n",
    "    ).add_to(marker_cluster)\n",
    "\n",
    "\n",
    "heatmap = HeatMap(heat_data, name=\"Heatmap\")\n",
    "heatmap.add_to(m)\n",
    "\n",
    "\n",
    "folium.LayerControl().add_to(m)\n",
    "\n",
    "\n",
    "output_path = 'switzerland_map_with_marker_cluster_and_heatmap.html'\n",
    "m.save(output_path)\n",
    "\n",
    "print(f\"Karte gespeichert unter: {output_path}\")\n"
   ]
  },
  {
   "cell_type": "code",
   "execution_count": null,
   "id": "fda16e4c",
   "metadata": {},
   "outputs": [],
   "source": []
  }
 ],
 "metadata": {
  "kernelspec": {
   "display_name": "Python 3 (ipykernel)",
   "language": "python",
   "name": "python3"
  },
  "language_info": {
   "codemirror_mode": {
    "name": "ipython",
    "version": 3
   },
   "file_extension": ".py",
   "mimetype": "text/x-python",
   "name": "python",
   "nbconvert_exporter": "python",
   "pygments_lexer": "ipython3",
   "version": "3.11.9"
  }
 },
 "nbformat": 4,
 "nbformat_minor": 5
}
